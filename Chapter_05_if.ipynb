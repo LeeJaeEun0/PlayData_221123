{
 "cells": [
  {
   "cell_type": "markdown",
   "id": "7be776cf",
   "metadata": {},
   "source": [
    "# 5장 제어문"
   ]
  },
  {
   "cell_type": "markdown",
   "id": "f06feaba",
   "metadata": {},
   "source": [
    "## 5.1 조건에 따라 분기하는 if문"
   ]
  },
  {
   "cell_type": "markdown",
   "id": "8fb2d828",
   "metadata": {},
   "source": [
    "### 단일 조건에 따른 분기(if)"
   ]
  },
  {
   "cell_type": "markdown",
   "id": "4badbde7",
   "metadata": {},
   "source": [
    "#### if<조건문>:\n",
    "    <코드부분>"
   ]
  },
  {
   "cell_type": "markdown",
   "id": "15557bac",
   "metadata": {},
   "source": [
    "파이썬에서 콜론(:)과 들여쓰기로 코드의 구조를 결정한다. 스페이스바 또는 (Tab)으로 조절"
   ]
  },
  {
   "cell_type": "code",
   "execution_count": 2,
   "id": "84693818",
   "metadata": {},
   "outputs": [
    {
     "name": "stdout",
     "output_type": "stream",
     "text": [
      "Pass\n"
     ]
    }
   ],
   "source": [
    "x = 95\n",
    "if x >= 90:           # x가 90보다 크거나 같다.# T/F 중 T\n",
    "    print(\"Pass\")      #90보다 크거나 같으면 Pass 출력 - 참이니까 출력됨"
   ]
  },
  {
   "cell_type": "code",
   "execution_count": 3,
   "id": "9421e724",
   "metadata": {},
   "outputs": [
    {
     "name": "stdout",
     "output_type": "stream",
     "text": [
      "Pass\n"
     ]
    }
   ],
   "source": [
    "x = 90\n",
    "if x >= 90:           # x가 90보다 크거나 같다.# T/F 중 T\n",
    "    print(\"Pass\")"
   ]
  },
  {
   "cell_type": "code",
   "execution_count": 4,
   "id": "8c81cfca",
   "metadata": {},
   "outputs": [],
   "source": [
    "x = 90\n",
    "if x <= 90:           # x가 90보다 작거나 같다.# T/F 중 F\n",
    "    print(\"Pass\")"
   ]
  },
  {
   "cell_type": "code",
   "execution_count": 5,
   "id": "b5cca0bb",
   "metadata": {},
   "outputs": [],
   "source": [
    "x = 90\n",
    "if x > 90:           # x가 90보다 작다 # T/F 중 F\n",
    "    print(\"Pass\")"
   ]
  },
  {
   "cell_type": "markdown",
   "id": "d4320efd",
   "metadata": {},
   "source": [
    "#### 눈을 떴을때 일어나야지! - if 버전"
   ]
  },
  {
   "cell_type": "code",
   "execution_count": 9,
   "id": "16342aff",
   "metadata": {},
   "outputs": [
    {
     "name": "stdout",
     "output_type": "stream",
     "text": [
      "기상 성공! 준비하자\n"
     ]
    }
   ],
   "source": [
    "time = 6\n",
    "if time < 6:\n",
    "    print(\"더 자!\")\n",
    "if time == 6:\n",
    "    print(\"기상 성공! 준비하자\")\n",
    "if time > 6:\n",
    "    print(\"지각이야! 어서 나가!!\")"
   ]
  },
  {
   "cell_type": "markdown",
   "id": "f8a76b66",
   "metadata": {},
   "source": [
    "###  단일 조건 및 그 외에 조건에 따른 분기(if ~ else)"
   ]
  },
  {
   "cell_type": "markdown",
   "id": "9949fb57",
   "metadata": {},
   "source": [
    "#### if <조건문> :\n",
    "    <코드 블럭1>\n",
    "#### else:\n",
    "    <코드블럭>"
   ]
  },
  {
   "cell_type": "code",
   "execution_count": 10,
   "id": "cb8f334f",
   "metadata": {},
   "outputs": [
    {
     "name": "stdout",
     "output_type": "stream",
     "text": [
      "Fail\n"
     ]
    }
   ],
   "source": [
    "x = 75\n",
    "if x>=90:\n",
    "    print(\"Pass\")\n",
    "else:\n",
    "    print(\"Fail\")"
   ]
  },
  {
   "cell_type": "code",
   "execution_count": 14,
   "id": "4bbe08d7",
   "metadata": {},
   "outputs": [
    {
     "name": "stdout",
     "output_type": "stream",
     "text": [
      "Pass\n"
     ]
    }
   ],
   "source": [
    "x = 99\n",
    "if x>=90:\n",
    "    print(\"Pass\")\n",
    "else:\n",
    "    print(\"Fail\")"
   ]
  },
  {
   "cell_type": "markdown",
   "id": "d20e9751",
   "metadata": {},
   "source": [
    "#### 눈을 떴을때 일어나야지 - if ~ else 버전"
   ]
  },
  {
   "cell_type": "code",
   "execution_count": 13,
   "id": "7ebe5610",
   "metadata": {},
   "outputs": [
    {
     "name": "stdout",
     "output_type": "stream",
     "text": [
      "더 자!\n"
     ]
    }
   ],
   "source": [
    "time = 3\n",
    "if time < 6:\n",
    "    print(\"더 자!\")\n",
    "else:\n",
    "    if time == 6:\n",
    "        print(\"기상 성공! 준비하자\")\n",
    "    else:\n",
    "        print(\"지각이야! 어서 나가!!\")"
   ]
  },
  {
   "cell_type": "markdown",
   "id": "970c4ebc",
   "metadata": {},
   "source": [
    "### 여러 조건에 따른 분기(if -elif--else)"
   ]
  },
  {
   "cell_type": "markdown",
   "id": "591eca6f",
   "metadata": {},
   "source": [
    "#### if<조건문1>:\n",
    "    <코드블록1>\n",
    "#### elif<조건문2>:\n",
    "    <코드블록2>\n",
    "#### elif<조건문N>:\n",
    "    <코드블록N>\n",
    "#### else: # 생략가능\n",
    "    <코드블록M>    "
   ]
  },
  {
   "cell_type": "code",
   "execution_count": 16,
   "id": "a2aba2c9",
   "metadata": {},
   "outputs": [
    {
     "name": "stdout",
     "output_type": "stream",
     "text": [
      "Good\n"
     ]
    }
   ],
   "source": [
    "x =85\n",
    "if x >= 90:\n",
    "    print(\"Very good\")\n",
    "elif (x>= 80) and (x < 90): #둘다 참이어야 참! 80~89.9999~ (90미만)\n",
    "    print(\"Good\")\n",
    "else:\n",
    "    print(\"Bad\")"
   ]
  },
  {
   "cell_type": "code",
   "execution_count": 18,
   "id": "0e718897",
   "metadata": {},
   "outputs": [
    {
     "name": "stdout",
     "output_type": "stream",
     "text": [
      "Good\n"
     ]
    }
   ],
   "source": [
    "x =55\n",
    "if x >= 90:\n",
    "    print(\"Very good\")         #90보다 크면 굿이 나오기는 하지만!\n",
    "elif (x>= 80) or (x < 90):   # 80보다 작아도 굿 오류!\n",
    "    print(\"Good\")             # 이런식의 오류!!! 원하는 값이 나온다고 잘 설계된 것이 아니다.\n",
    "else:\n",
    "    print(\"Bad\")"
   ]
  },
  {
   "cell_type": "markdown",
   "id": "0871e9ff",
   "metadata": {},
   "source": [
    "#### 눈을 떴을때 일어나야지 - if -elif-else 버전"
   ]
  },
  {
   "cell_type": "code",
   "execution_count": 24,
   "id": "f7171faf",
   "metadata": {},
   "outputs": [
    {
     "name": "stdout",
     "output_type": "stream",
     "text": [
      "지각이야! 빨리나가!!!\n"
     ]
    }
   ],
   "source": [
    "time = 10\n",
    "if time < 6:                      # 일찍 일어난 경우 - 더 자!\n",
    "    print(\"더 자!\")         \n",
    "elif (time>= 7) and (time < 8):  # 7시부터 8시 미만이면 기상완료 안내! \n",
    "    print(\"기상완료! 준비하자!\")             \n",
    "else:\n",
    "    print(\"지각이야! 빨리나가!!!\") # 8시 이후 지각 - 빨리 나가기"
   ]
  },
  {
   "cell_type": "code",
   "execution_count": 29,
   "id": "e1dad48c",
   "metadata": {},
   "outputs": [
    {
     "name": "stdout",
     "output_type": "stream",
     "text": [
      "일어난 시간을 입력하시오7\n",
      "기상완료! 준비하자!\n"
     ]
    }
   ],
   "source": [
    "time = input(\"일어난 시간을 입력하시오\")\n",
    "time = int(time)\n",
    "if time < 6:                      # 일찍 일어난 경우 - 더 자!\n",
    "    print(\"더 자!\")         \n",
    "elif (time>= 7) and (time < 8):  # 7시부터 8시 미만이면 기상완료 안내! \n",
    "    print(\"기상완료! 준비하자!\")             \n",
    "else:\n",
    "    print(\"지각이야! 빨리나가!!!\") # 8시 이후 지각 - 빨리 나가기"
   ]
  },
  {
   "cell_type": "code",
   "execution_count": 26,
   "id": "4befa456",
   "metadata": {},
   "outputs": [
    {
     "name": "stdout",
     "output_type": "stream",
     "text": [
      "Good\n"
     ]
    }
   ],
   "source": [
    "x = 87\n",
    "if x >= 90:\n",
    "    print(\"Very good\")         \n",
    "elif (80<= x <90):   # 이런식으로 가능\n",
    "    print(\"Good\")            \n",
    "else:\n",
    "    print(\"Bad\")"
   ]
  },
  {
   "cell_type": "markdown",
   "id": "5f5a3eb0",
   "metadata": {},
   "source": [
    "### 조건 속에 또 다른 조건에 따른 분기(if -elif--else)"
   ]
  },
  {
   "cell_type": "markdown",
   "id": "04201788",
   "metadata": {},
   "source": [
    "#### if<조건문1>:\n",
    "    if<조건문2>:\n",
    "        <코드블럭2>\n",
    "    elif<조건문3>\n",
    "        <코드블럭2>\n",
    "#### elif<조건문4>:\n",
    "    <코드블록4>\n",
    "#### elif<조건문N>:\n",
    "    <코드블록N>\n",
    "#### else: # 생략가능\n",
    "    <코드블록M>    "
   ]
  },
  {
   "cell_type": "code",
   "execution_count": 31,
   "id": "6ae31f4c",
   "metadata": {},
   "outputs": [
    {
     "name": "stdout",
     "output_type": "stream",
     "text": [
      "Perfect\n"
     ]
    }
   ],
   "source": [
    "x= 100\n",
    "if x >= 90:    # 100초과한 점수도 Very good \n",
    "    if x== 100:\n",
    "        print(\"Perfect\")\n",
    "    else:\n",
    "        print(\"Very good\")\n",
    "elif (x >= 80) and (x<90):\n",
    "    print(\"Good\")\n",
    "else:\n",
    "    print(\"Bad\")"
   ]
  },
  {
   "cell_type": "code",
   "execution_count": 33,
   "id": "4c848c6f",
   "metadata": {},
   "outputs": [
    {
     "name": "stdout",
     "output_type": "stream",
     "text": [
      "최대 100점까지 입력할 수 있습니다. 다시 시도해주세요\n"
     ]
    }
   ],
   "source": [
    "x= 500\n",
    "if x >= 90:\n",
    "    if x > 100:\n",
    "        print(\"최대 100점까지 입력할 수 있습니다. 다시 시도해주세요\")\n",
    "    elif x>= 100:\n",
    "        print(\"Perfect\")\n",
    "    else:\n",
    "        print(\"Very good\")\n",
    "elif (x >= 80) and (x < 90):\n",
    "    print(\"Good\")\n",
    "else:\n",
    "    print(\"Bad\")"
   ]
  },
  {
   "cell_type": "markdown",
   "id": "37f84d49",
   "metadata": {},
   "source": [
    "#### 예제 변형하기"
   ]
  },
  {
   "cell_type": "code",
   "execution_count": 37,
   "id": "bdb14f9a",
   "metadata": {},
   "outputs": [
    {
     "name": "stdout",
     "output_type": "stream",
     "text": [
      "점수를 입력해주세요 : -1\n",
      "유효한 값을 입력해주세요.\n"
     ]
    }
   ],
   "source": [
    "x = input (\"점수를 입력해주세요 : \")\n",
    "x = int(x)\n",
    "if x >= 90:\n",
    "    if x > 100:\n",
    "        print(\"최대 100점까지 입력할 수 있습니다. 다시 시도해주세요\")\n",
    "    elif x == 100:\n",
    "        print(\"Perfect\")\n",
    "    else:\n",
    "        print(\"Very good\")\n",
    "elif (x >= 80) and (x < 90):\n",
    "    print(\"Good\")\n",
    "elif x >= 0:\n",
    "    print(\"Bad\")\n",
    "else:\n",
    "    print(\"유효한 값을 입력해주세요.\")"
   ]
  },
  {
   "cell_type": "code",
   "execution_count": 38,
   "id": "82e9df49",
   "metadata": {},
   "outputs": [],
   "source": [
    "# 나중에 구현하고 싶을 때 Pass 활용 \n",
    "# 지금 명확한 조건이 없고 나중에 추가해야하는 경우\n",
    "x = 75\n",
    "if x >= 80:\n",
    "    pass\n",
    "else:\n",
    "    pass"
   ]
  }
 ],
 "metadata": {
  "kernelspec": {
   "display_name": "Python 3 (ipykernel)",
   "language": "python",
   "name": "python3"
  },
  "language_info": {
   "codemirror_mode": {
    "name": "ipython",
    "version": 3
   },
   "file_extension": ".py",
   "mimetype": "text/x-python",
   "name": "python",
   "nbconvert_exporter": "python",
   "pygments_lexer": "ipython3",
   "version": "3.9.13"
  }
 },
 "nbformat": 4,
 "nbformat_minor": 5
}

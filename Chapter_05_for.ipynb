{
 "cells": [
  {
   "cell_type": "markdown",
   "id": "9b5e4f2a",
   "metadata": {},
   "source": [
    "# 5장 제어문"
   ]
  },
  {
   "cell_type": "markdown",
   "id": "4621fb0c",
   "metadata": {},
   "source": [
    "## 5.2 지정된 범위만큼 반복하는 for문"
   ]
  },
  {
   "cell_type": "markdown",
   "id": "d42c339d",
   "metadata": {},
   "source": [
    "## 반복문의 필요성"
   ]
  },
  {
   "cell_type": "code",
   "execution_count": 4,
   "id": "db9c972e",
   "metadata": {
    "scrolled": true
   },
   "outputs": [
    {
     "name": "stdout",
     "output_type": "stream",
     "text": [
      "0\n",
      "1\n",
      "2\n",
      "3\n",
      "4\n",
      "5\n",
      "6\n"
     ]
    }
   ],
   "source": [
    "a = 0 # 변수 a를 0으로 초기화\n",
    "print(a) # 변수 a 출력\n",
    "\n",
    "a = a + 1\n",
    "print(a)\n",
    "\n",
    "a = a + 1\n",
    "print(a)\n",
    "\n",
    "a = a + 1\n",
    "print(a)\n",
    "\n",
    "a = a + 1\n",
    "print(a)\n",
    "\n",
    "a = a + 1\n",
    "print(a)\n",
    "\n",
    "a = a + 1\n",
    "print(a)"
   ]
  },
  {
   "cell_type": "markdown",
   "id": "7b2cfc0d",
   "metadata": {},
   "source": [
    "## for문\n",
    "#### for 인덱스 in <반복 범위>:\n",
    "        <코드 블록>"
   ]
  },
  {
   "cell_type": "markdown",
   "id": "9ba9fd8d",
   "metadata": {},
   "source": [
    "## 반복 범위 지정"
   ]
  },
  {
   "cell_type": "markdown",
   "id": "68beccb1",
   "metadata": {},
   "source": [
    "### 리스트 이용"
   ]
  },
  {
   "cell_type": "code",
   "execution_count": 5,
   "id": "92e61094",
   "metadata": {},
   "outputs": [
    {
     "name": "stdout",
     "output_type": "stream",
     "text": [
      "0\n",
      "1\n",
      "2\n",
      "3\n",
      "4\n",
      "5\n"
     ]
    }
   ],
   "source": [
    "for a in [0,1,2,3,4,5]: # 랙a\n",
    "    print(a)"
   ]
  },
  {
   "cell_type": "code",
   "execution_count": 6,
   "id": "d522ad4b",
   "metadata": {},
   "outputs": [
    {
     "name": "stdout",
     "output_type": "stream",
     "text": [
      "James\n",
      "Robert\n",
      "Lisa\n",
      "Mary\n"
     ]
    }
   ],
   "source": [
    "myFriends = ['James','Robert','Lisa','Mary'] # 리스트를 변수에 할당\n",
    "for myFriends in myFriends:\n",
    "    print(myFriends)"
   ]
  },
  {
   "cell_type": "code",
   "execution_count": 29,
   "id": "d752d09c",
   "metadata": {},
   "outputs": [
    {
     "name": "stdout",
     "output_type": "stream",
     "text": [
      "0 James 100\n",
      "1 Robert 70\n",
      "2 Lisa 80\n",
      "3 Mary 85\n"
     ]
    }
   ],
   "source": [
    "myFriends = ['James','Robert','Lisa','Mary'] # 리스트를 변수에 할당\n",
    "sc = [100,70,80,85]\n",
    "for num in [0,1,2,3]: # 4개 이상이면 오류 발생! - 에러 처리하는 방법 주의하기\n",
    "    # 값이 존재하면 처리 아니면 break 문을 사용할 수 있지 않을까? # 해결방법: 리스트의 길이를 넘어가면 break!!\n",
    "    if num > len(myFriends):\n",
    "        break\n",
    "    print(num, myFriends[num], sc[num])"
   ]
  },
  {
   "cell_type": "markdown",
   "id": "589921c5",
   "metadata": {},
   "source": [
    "### range() 함수 이용"
   ]
  },
  {
   "cell_type": "markdown",
   "id": "67c7064b",
   "metadata": {},
   "source": [
    "range(start,stop-1,step)"
   ]
  },
  {
   "cell_type": "code",
   "execution_count": 15,
   "id": "1db5a61d",
   "metadata": {},
   "outputs": [
    {
     "name": "stdout",
     "output_type": "stream",
     "text": [
      "range(0, 10)\n"
     ]
    }
   ],
   "source": [
    "print(range(0,10,1))"
   ]
  },
  {
   "cell_type": "markdown",
   "id": "1467987e",
   "metadata": {},
   "source": [
    "리스트 형태로 출력해야함"
   ]
  },
  {
   "cell_type": "code",
   "execution_count": 16,
   "id": "318e29a8",
   "metadata": {},
   "outputs": [
    {
     "name": "stdout",
     "output_type": "stream",
     "text": [
      "[0, 1, 2, 3, 4, 5, 6, 7, 8, 9]\n"
     ]
    }
   ],
   "source": [
    "print(list(range(0,10,1)))"
   ]
  },
  {
   "cell_type": "markdown",
   "id": "f7a29fe7",
   "metadata": {},
   "source": [
    "반복문에 활용"
   ]
  },
  {
   "cell_type": "code",
   "execution_count": 17,
   "id": "15aa6dcf",
   "metadata": {},
   "outputs": [
    {
     "name": "stdout",
     "output_type": "stream",
     "text": [
      "0\n",
      "1\n",
      "2\n",
      "3\n",
      "4\n",
      "5\n"
     ]
    }
   ],
   "source": [
    "for a in range(0,6,1):\n",
    "    print(a)"
   ]
  },
  {
   "cell_type": "code",
   "execution_count": 18,
   "id": "1da19dfb",
   "metadata": {},
   "outputs": [
    {
     "name": "stdout",
     "output_type": "stream",
     "text": [
      "0\n",
      "2\n",
      "4\n"
     ]
    }
   ],
   "source": [
    "for a in range(0,6,2): # 0 ~ 6까지 중 2씩 증가\n",
    "    print(a)"
   ]
  },
  {
   "cell_type": "code",
   "execution_count": 22,
   "id": "d772063d",
   "metadata": {},
   "outputs": [
    {
     "name": "stdout",
     "output_type": "stream",
     "text": [
      "퀴즈\n",
      "0\n",
      "3\n",
      "6\n",
      "퀴즈\n",
      "3\n",
      "6\n"
     ]
    }
   ],
   "source": [
    "print(\"퀴즈\")\n",
    "for a in range(0,7,3): \n",
    "    print(a)\n",
    "print(\"퀴즈\")\n",
    "for a in range(3,7,3): \n",
    "    print(a)"
   ]
  },
  {
   "cell_type": "markdown",
   "id": "0f13d897",
   "metadata": {},
   "source": [
    "예제 변형하기"
   ]
  },
  {
   "cell_type": "code",
   "execution_count": 26,
   "id": "5fdd12db",
   "metadata": {},
   "outputs": [
    {
     "name": "stdout",
     "output_type": "stream",
     "text": [
      "퀴즈\n",
      "3\n",
      "6\n"
     ]
    }
   ],
   "source": [
    "for a in range(0,7,3): \n",
    "    if a == 0:\n",
    "        continue\n",
    "    if a % 3 == 0:\n",
    "        print(a)"
   ]
  },
  {
   "cell_type": "markdown",
   "id": "393ad868",
   "metadata": {},
   "source": [
    "생략가능"
   ]
  },
  {
   "cell_type": "code",
   "execution_count": 23,
   "id": "b045808d",
   "metadata": {},
   "outputs": [
    {
     "name": "stdout",
     "output_type": "stream",
     "text": [
      "[0, 1, 2, 3, 4, 5, 6, 7, 8, 9]\n",
      "[0, 1, 2, 3, 4, 5, 6, 7, 8, 9]\n",
      "[0, 1, 2, 3, 4, 5, 6, 7, 8, 9]\n"
     ]
    }
   ],
   "source": [
    "print(list(range(0, 10,1)))\n",
    "print(list(range(0, 10)))\n",
    "print(list(range(10)))"
   ]
  },
  {
   "cell_type": "markdown",
   "id": "cf477c5a",
   "metadata": {},
   "source": [
    "양수가 아니어도 가능"
   ]
  },
  {
   "cell_type": "code",
   "execution_count": 32,
   "id": "a12a3c87",
   "metadata": {},
   "outputs": [
    {
     "name": "stdout",
     "output_type": "stream",
     "text": [
      "[0, 5, 10, 15]\n",
      "[-10, -8, -6, -4, -2]\n",
      "[3, 0, -3, -6, -9]\n",
      "[]\n",
      "[0]\n"
     ]
    }
   ],
   "source": [
    "print(list(range(0,20,5)))\n",
    "print(list(range(-10,0,2)))\n",
    "print(list(range(3,-10,-3)))\n",
    "print(list(range(0,-5,1)))\n",
    "print(list(range(0,1,1)))"
   ]
  },
  {
   "cell_type": "markdown",
   "id": "671c61ea",
   "metadata": {},
   "source": [
    "## 중첨 for문"
   ]
  },
  {
   "cell_type": "markdown",
   "id": "bcec9322",
   "metadata": {},
   "source": [
    "#### for <반복 변수1> in <반복 범위1>:\n",
    "        for <반복 변수2> in <반복 범위2>:\n",
    "            <코드 블록>"
   ]
  },
  {
   "cell_type": "code",
   "execution_count": 33,
   "id": "374bd8b4",
   "metadata": {},
   "outputs": [
    {
     "name": "stdout",
     "output_type": "stream",
     "text": [
      "x y\n",
      "x1 y1\n",
      "x1 y2\n",
      "x2 y1\n",
      "x2 y2\n"
     ]
    }
   ],
   "source": [
    "x_list = ['x1','x2']\n",
    "y_list = ['y1', 'y2']\n",
    "\n",
    "print(\"x  y\") \n",
    "for x in x_list:      # x는 변수명, x_list는 배열명\n",
    "    for y in y_list:  # y는 변수명, y_list는 배열명\n",
    "        print(x,y)"
   ]
  },
  {
   "cell_type": "markdown",
   "id": "834bd33b",
   "metadata": {},
   "source": [
    "### 출력값 이해하기\n",
    "for x in x_list:      \n",
    "    for y in y_list:  \n",
    "        print(x,y)\n",
    "\n",
    "x는 구구단에서 단을 의미, y는 단에 곱하는 수라고 이해하면 쉽게 이해가능!\n",
    "      \n",
    "#### 즉, x1 - y1, x1 - y1 끝나고 x2 - y1, x2 -y2       "
   ]
  },
  {
   "cell_type": "markdown",
   "id": "940df2af",
   "metadata": {},
   "source": [
    "#### 구구단을 출력 - 이중 for문 이용"
   ]
  },
  {
   "cell_type": "code",
   "execution_count": 49,
   "id": "116c0883",
   "metadata": {},
   "outputs": [
    {
     "name": "stdout",
     "output_type": "stream",
     "text": [
      "구구단\n",
      "------------\n",
      "2 단\n",
      "2 1 = 2\n",
      "2 2 = 4\n",
      "2 3 = 6\n",
      "2 4 = 8\n",
      "2 5 = 10\n",
      "2 6 = 12\n",
      "2 7 = 14\n",
      "2 8 = 16\n",
      "2 9 = 18\n",
      "------------\n",
      "3 단\n",
      "3 1 = 3\n",
      "3 2 = 6\n",
      "3 3 = 9\n",
      "3 4 = 12\n",
      "3 5 = 15\n",
      "3 6 = 18\n",
      "3 7 = 21\n",
      "3 8 = 24\n",
      "3 9 = 27\n",
      "------------\n",
      "4 단\n",
      "4 1 = 4\n",
      "4 2 = 8\n",
      "4 3 = 12\n",
      "4 4 = 16\n",
      "4 5 = 20\n",
      "4 6 = 24\n",
      "4 7 = 28\n",
      "4 8 = 32\n",
      "4 9 = 36\n",
      "------------\n",
      "5 단\n",
      "5 1 = 5\n",
      "5 2 = 10\n",
      "5 3 = 15\n",
      "5 4 = 20\n",
      "5 5 = 25\n",
      "5 6 = 30\n",
      "5 7 = 35\n",
      "5 8 = 40\n",
      "5 9 = 45\n",
      "------------\n",
      "6 단\n",
      "6 1 = 6\n",
      "6 2 = 12\n",
      "6 3 = 18\n",
      "6 4 = 24\n",
      "6 5 = 30\n",
      "6 6 = 36\n",
      "6 7 = 42\n",
      "6 8 = 48\n",
      "6 9 = 54\n",
      "------------\n",
      "7 단\n",
      "7 1 = 7\n",
      "7 2 = 14\n",
      "7 3 = 21\n",
      "7 4 = 28\n",
      "7 5 = 35\n",
      "7 6 = 42\n",
      "7 7 = 49\n",
      "7 8 = 56\n",
      "7 9 = 63\n",
      "------------\n",
      "8 단\n",
      "8 1 = 8\n",
      "8 2 = 16\n",
      "8 3 = 24\n",
      "8 4 = 32\n",
      "8 5 = 40\n",
      "8 6 = 48\n",
      "8 7 = 56\n",
      "8 8 = 64\n",
      "8 9 = 72\n",
      "------------\n",
      "9 단\n",
      "9 1 = 9\n",
      "9 2 = 18\n",
      "9 3 = 27\n",
      "9 4 = 36\n",
      "9 5 = 45\n",
      "9 6 = 54\n",
      "9 7 = 63\n",
      "9 8 = 72\n",
      "9 9 = 81\n",
      "------------\n"
     ]
    }
   ],
   "source": [
    "print(\"구구단\")\n",
    "for x in range(2,10,1):    \n",
    "    print(\"------------\")\n",
    "    print(x,\"단\")\n",
    "    for y in range(1,10,1):  \n",
    "        print(x,y,\"=\",x*y)\n",
    "    if x == 9:\n",
    "        print(\"------------\")"
   ]
  },
  {
   "cell_type": "code",
   "execution_count": 39,
   "id": "5ba4c9a4",
   "metadata": {},
   "outputs": [
    {
     "name": "stdout",
     "output_type": "stream",
     "text": [
      "원하는 구구단 단을 입력하세요2\n",
      "2 1 = 2\n",
      "2 2 = 4\n",
      "2 3 = 6\n",
      "2 4 = 8\n",
      "2 5 = 10\n",
      "2 6 = 12\n",
      "2 7 = 14\n",
      "2 8 = 16\n",
      "2 9 = 18\n"
     ]
    }
   ],
   "source": [
    "xp =input(\"원하는 구구단 단을 입력하세요\")\n",
    "xp = int(xp)\n",
    "for y in range(1,10,1):  \n",
    "    print(xp,y,\"=\",xp*y)"
   ]
  },
  {
   "cell_type": "code",
   "execution_count": 40,
   "id": "f9662a9b",
   "metadata": {},
   "outputs": [
    {
     "name": "stdout",
     "output_type": "stream",
     "text": [
      "x  y\n",
      "x,y\n",
      "x,y\n",
      "x,y\n",
      "x,y\n"
     ]
    }
   ],
   "source": [
    "x_list = ['x1','x2']\n",
    "y_list = ['y1', 'y2']\n",
    "\n",
    "print(\"x  y\") \n",
    "for x in x_list:      # x는 변수명, x_list는 배열명\n",
    "    for y in y_list:  # y는 변수명, y_list는 배열명\n",
    "        print(\"x,y\")   # 이러면 x,y만 보임 # 이런 경우도 오류"
   ]
  },
  {
   "cell_type": "code",
   "execution_count": 62,
   "id": "3688731c",
   "metadata": {},
   "outputs": [
    {
     "name": "stdout",
     "output_type": "stream",
     "text": [
      "x  y  z\n",
      "x1 y1 z1\n",
      "x1 y1 z2\n",
      "x1 y2 z1\n",
      "x1 y2 z2\n",
      "x2 y1 z1\n",
      "x2 y1 z2\n",
      "x2 y2 z1\n",
      "x2 y2 z2\n"
     ]
    }
   ],
   "source": [
    "x_list = ['x1','x2']\n",
    "y_list = ['y1', 'y2']\n",
    "z_list = ['z1', 'z2']\n",
    "\n",
    "print(\"x  y  z\") \n",
    "for x in x_list:     \n",
    "    for y in y_list:  \n",
    "           for z in z_list:\n",
    "                print(x,y,z)"
   ]
  },
  {
   "cell_type": "code",
   "execution_count": 66,
   "id": "d92ef663",
   "metadata": {},
   "outputs": [
    {
     "name": "stdout",
     "output_type": "stream",
     "text": [
      "x  y  z\n",
      "x1 y1 z1\n",
      "x1 y1 z2\n",
      "---------\n",
      "x1 y2 z1\n",
      "x1 y2 z2\n",
      "---------\n",
      "x2 y1 z1\n",
      "x2 y1 z2\n",
      "---------\n",
      "x2 y2 z1\n",
      "x2 y2 z2\n",
      "---------\n"
     ]
    }
   ],
   "source": [
    "x_list = ['x1','x2']\n",
    "y_list = ['y1', 'y2']\n",
    "z_list = ['z1', 'z2']\n",
    "\n",
    "print(\"x  y  z\") \n",
    "for x in x_list:     \n",
    "    for y in y_list:  \n",
    "        for z in z_list:\n",
    "            print(x,y,z)\n",
    "        print(\"---------\")"
   ]
  },
  {
   "cell_type": "code",
   "execution_count": 67,
   "id": "fc9610c9",
   "metadata": {},
   "outputs": [
    {
     "name": "stdout",
     "output_type": "stream",
     "text": [
      "x  y  z\n",
      "x1 y1 z1\n",
      "x1 y1 z2\n",
      "x1 y1 z3\n",
      "---------\n",
      "x1 y2 z1\n",
      "x1 y2 z2\n",
      "x1 y2 z3\n",
      "---------\n",
      "x2 y1 z1\n",
      "x2 y1 z2\n",
      "x2 y1 z3\n",
      "---------\n",
      "x2 y2 z1\n",
      "x2 y2 z2\n",
      "x2 y2 z3\n",
      "---------\n"
     ]
    }
   ],
   "source": [
    "x_list = ['x1','x2']\n",
    "y_list = ['y1', 'y2']\n",
    "z_list = ['z1', 'z2','z3']\n",
    "\n",
    "print(\"x  y  z\") \n",
    "for x in x_list:     \n",
    "    for y in y_list:  \n",
    "        for z in z_list:\n",
    "            print(x,y,z)\n",
    "        print(\"---------\")"
   ]
  },
  {
   "cell_type": "markdown",
   "id": "654932d4",
   "metadata": {},
   "source": [
    "## 여러 개의 리스트 다루기"
   ]
  },
  {
   "cell_type": "code",
   "execution_count": 71,
   "id": "057eae74",
   "metadata": {},
   "outputs": [],
   "source": [
    "names = ['James', 'Robert','Lisa','Mary']\n",
    "scores = [95, 96, 97, 94]"
   ]
  },
  {
   "cell_type": "code",
   "execution_count": 73,
   "id": "edbde38d",
   "metadata": {},
   "outputs": [
    {
     "name": "stdout",
     "output_type": "stream",
     "text": [
      "James 95\n",
      "Robert 96\n",
      "Lisa 97\n",
      "Mary 94\n"
     ]
    }
   ],
   "source": [
    "names = ['James', 'Robert','Lisa','Mary']\n",
    "scores = [95, 96, 97, 94]\n",
    "for k in range(len(names)):     # len()은 리스트의 길이를 알아낸다 # 0,1,2,3 으로 진행\n",
    "    print(names[k], scores[k])"
   ]
  },
  {
   "cell_type": "code",
   "execution_count": 73,
   "id": "8d074ed2",
   "metadata": {},
   "outputs": [
    {
     "name": "stdout",
     "output_type": "stream",
     "text": [
      "James 95\n",
      "Robert 96\n",
      "Lisa 97\n",
      "Mary 94\n"
     ]
    }
   ],
   "source": [
    "names = ['James', 'Robert','Lisa','Mary']\n",
    "scores = [95, 96, 97, 94]\n",
    "for k in range(len(names)):     # len()은 리스트의 길이를 알아낸다 # 0,1,2,3 으로 진행\n",
    "    print(names[k], scores[k])"
   ]
  },
  {
   "cell_type": "code",
   "execution_count": 77,
   "id": "ac31b681",
   "metadata": {},
   "outputs": [
    {
     "name": "stdout",
     "output_type": "stream",
     "text": [
      "James 95\n",
      "Robert 96\n",
      "Lisa 97\n",
      "Mary 94\n"
     ]
    },
    {
     "ename": "IndexError",
     "evalue": "list index out of range",
     "output_type": "error",
     "traceback": [
      "\u001b[1;31m---------------------------------------------------------------------------\u001b[0m",
      "\u001b[1;31mIndexError\u001b[0m                                Traceback (most recent call last)",
      "\u001b[1;32m~\\AppData\\Local\\Temp\\ipykernel_144\\1910206886.py\u001b[0m in \u001b[0;36m<module>\u001b[1;34m\u001b[0m\n\u001b[0;32m      2\u001b[0m \u001b[0mscores\u001b[0m \u001b[1;33m=\u001b[0m \u001b[1;33m[\u001b[0m\u001b[1;36m95\u001b[0m\u001b[1;33m,\u001b[0m \u001b[1;36m96\u001b[0m\u001b[1;33m,\u001b[0m \u001b[1;36m97\u001b[0m\u001b[1;33m,\u001b[0m \u001b[1;36m94\u001b[0m\u001b[1;33m]\u001b[0m\u001b[1;33m\u001b[0m\u001b[1;33m\u001b[0m\u001b[0m\n\u001b[0;32m      3\u001b[0m \u001b[1;32mfor\u001b[0m \u001b[0mk\u001b[0m \u001b[1;32min\u001b[0m \u001b[0mrange\u001b[0m\u001b[1;33m(\u001b[0m\u001b[0mlen\u001b[0m\u001b[1;33m(\u001b[0m\u001b[0mnames\u001b[0m\u001b[1;33m)\u001b[0m\u001b[1;33m)\u001b[0m\u001b[1;33m:\u001b[0m     \u001b[1;31m# len()은 리스트의 길이를 알아낸다 # 0,1,2,3 으로 진행, names의 길이가 score보다 길어서 오류발생\u001b[0m\u001b[1;33m\u001b[0m\u001b[1;33m\u001b[0m\u001b[0m\n\u001b[1;32m----> 4\u001b[1;33m     \u001b[0mprint\u001b[0m\u001b[1;33m(\u001b[0m\u001b[0mnames\u001b[0m\u001b[1;33m[\u001b[0m\u001b[0mk\u001b[0m\u001b[1;33m]\u001b[0m\u001b[1;33m,\u001b[0m \u001b[0mscores\u001b[0m\u001b[1;33m[\u001b[0m\u001b[0mk\u001b[0m\u001b[1;33m]\u001b[0m\u001b[1;33m)\u001b[0m\u001b[1;33m\u001b[0m\u001b[1;33m\u001b[0m\u001b[0m\n\u001b[0m",
      "\u001b[1;31mIndexError\u001b[0m: list index out of range"
     ]
    }
   ],
   "source": [
    "names = ['James', 'Robert','Lisa','Mary','JJ']\n",
    "scores = [95, 96, 97, 94]\n",
    "for k in range(len(names)):     # len()은 리스트의 길이를 알아낸다 # 0,1,2,3 으로 진행, names의 길이가 score보다 길어서 오류발생\n",
    "    print(names[k], scores[k])"
   ]
  },
  {
   "cell_type": "code",
   "execution_count": 79,
   "id": "a8f1a67a",
   "metadata": {},
   "outputs": [
    {
     "name": "stdout",
     "output_type": "stream",
     "text": [
      "James 95\n",
      "Robert 96\n",
      "Lisa 97\n",
      "Mary 94\n"
     ]
    }
   ],
   "source": [
    "names = ['James', 'Robert','Lisa','Mary','JJ']\n",
    "scores = [95, 96, 97, 94]\n",
    "for name, score in zip(names, scores):  #zip는 같은 길이의 데이터끼리 묶어준다, - JJ가 출력되지 않는 이유\n",
    "    print(name, score)"
   ]
  },
  {
   "cell_type": "code",
   "execution_count": 81,
   "id": "1c71c410",
   "metadata": {},
   "outputs": [
    {
     "name": "stdout",
     "output_type": "stream",
     "text": [
      "James 1 95\n",
      "Robert 2 96\n",
      "Lisa 3 97\n",
      "Mary 4 94\n"
     ]
    }
   ],
   "source": [
    "names = ['James', 'Robert','Lisa','Mary','JJ']\n",
    "numbers = [1,2,3,4,5]\n",
    "scores = [95, 96, 97, 94]\n",
    "for name, number ,score in zip(names, numbers ,scores):  #zip는 같은 길이의 데이터끼리 묶어준다, \n",
    "    print(name, number,score)"
   ]
  }
 ],
 "metadata": {
  "kernelspec": {
   "display_name": "Python 3 (ipykernel)",
   "language": "python",
   "name": "python3"
  },
  "language_info": {
   "codemirror_mode": {
    "name": "ipython",
    "version": 3
   },
   "file_extension": ".py",
   "mimetype": "text/x-python",
   "name": "python",
   "nbconvert_exporter": "python",
   "pygments_lexer": "ipython3",
   "version": "3.9.13"
  }
 },
 "nbformat": 4,
 "nbformat_minor": 5
}

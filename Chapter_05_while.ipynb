{
 "cells": [
  {
   "cell_type": "markdown",
   "id": "da2ec061",
   "metadata": {},
   "source": [
    "# 5장 제어문"
   ]
  },
  {
   "cell_type": "markdown",
   "id": "42546d5a",
   "metadata": {},
   "source": [
    "## 5.1 조건에 따라 반복하는 while"
   ]
  },
  {
   "cell_type": "markdown",
   "id": "9234a69e",
   "metadata": {},
   "source": [
    "## while문의 구조\n",
    "##### while <조건문>:\n",
    "        <코드 블록>"
   ]
  },
  {
   "cell_type": "code",
   "execution_count": 1,
   "id": "9c7ee920",
   "metadata": {},
   "outputs": [
    {
     "name": "stdout",
     "output_type": "stream",
     "text": [
      "i sum\n",
      "1 1\n",
      "2 3\n",
      "3 6\n",
      "4 10\n",
      "5 15\n",
      "6 21\n"
     ]
    }
   ],
   "source": [
    "i = 0 # 초기화\n",
    "sum = 0 # 초기화\n",
    "\n",
    "print(\"i sum\")\n",
    "while(sum < 20):  # 조건 검사 # while을 벗어날때까지 반복\n",
    "    i = i +1      # i를 1씩 증가\n",
    "    sum = sum+i   # sum에 i의 값을 누적한다, 갱신한다\n",
    "    print(i, sum) # i와 sum 출력"
   ]
  },
  {
   "cell_type": "code",
   "execution_count": 4,
   "id": "36db7cd2",
   "metadata": {},
   "outputs": [
    {
     "name": "stdout",
     "output_type": "stream",
     "text": [
      "i sum\n",
      "2 2\n",
      "4 6\n",
      "6 12\n",
      "8 20\n",
      "10 30\n",
      "12 42\n",
      "14 56\n",
      "16 72\n",
      "18 90\n",
      "20 110\n"
     ]
    }
   ],
   "source": [
    "i = 0 # 초기화\n",
    "sum = 0 # 초기화\n",
    "\n",
    "print(\"i sum\")\n",
    "while(i <= 20):     # i가 20까지 반복\n",
    "    i = i +1      \n",
    "    if i% 2 == 0:   # 짝수의 총합 구하기\n",
    "        sum = sum+i   \n",
    "        print(i, sum) "
   ]
  },
  {
   "cell_type": "code",
   "execution_count": 5,
   "id": "459093c1",
   "metadata": {},
   "outputs": [
    {
     "name": "stdout",
     "output_type": "stream",
     "text": [
      "i sum\n",
      "1 1\n",
      "3 4\n",
      "5 9\n",
      "7 16\n",
      "9 25\n",
      "11 36\n",
      "13 49\n",
      "15 64\n",
      "17 81\n",
      "19 100\n",
      "21 121\n"
     ]
    }
   ],
   "source": [
    "i = 0 # 초기화\n",
    "sum = 0 # 초기화\n",
    "\n",
    "print(\"i sum\")\n",
    "while(i <= 20):     # i가 20까지 반복\n",
    "    i = i +1      \n",
    "    if i% 2 != 0:   # 홀수의 총합 구하기\n",
    "        sum = sum+i   \n",
    "        print(i, sum) "
   ]
  },
  {
   "cell_type": "markdown",
   "id": "d1edd951",
   "metadata": {},
   "source": [
    "## 무한 반복 while문"
   ]
  },
  {
   "cell_type": "code",
   "execution_count": 26,
   "id": "03cc6888",
   "metadata": {},
   "outputs": [],
   "source": [
    "# while True:\n",
    "#     print(\"무한 반복~ \")"
   ]
  },
  {
   "cell_type": "markdown",
   "id": "ac346edb",
   "metadata": {},
   "source": [
    "## 5.4 반복문을 제어하는 break와 continue"
   ]
  },
  {
   "cell_type": "markdown",
   "id": "dfad591a",
   "metadata": {},
   "source": [
    "## 반복문을 빠져나오는 break - print()의 위치에 따라서 결과가 조금 다름"
   ]
  },
  {
   "cell_type": "code",
   "execution_count": 8,
   "id": "c778e5e8",
   "metadata": {},
   "outputs": [
    {
     "name": "stdout",
     "output_type": "stream",
     "text": [
      "1\n",
      "2\n",
      "3\n"
     ]
    }
   ],
   "source": [
    "k = 0 \n",
    "while True:\n",
    "    k = k + 1 # k는 1씩 증가!\n",
    "    \n",
    "    if(k>3):  # k가 3보다 크면 # 3초과\n",
    "        break # break로 while 문을 빠져 나옴\n",
    "        \n",
    "    print(k) # k 출력"
   ]
  },
  {
   "cell_type": "code",
   "execution_count": 10,
   "id": "fbf0cbd2",
   "metadata": {},
   "outputs": [
    {
     "name": "stdout",
     "output_type": "stream",
     "text": [
      "1\n",
      "2\n",
      "3\n",
      "4\n"
     ]
    }
   ],
   "source": [
    "k = 0 \n",
    "while True:\n",
    "    \n",
    "    k = k + 1 # k는 1씩 증가!\n",
    "    \n",
    "    print(k) # k 출력\n",
    "    \n",
    "    if(k>3):  # k가 3보다 크면 # 3초과\n",
    "        break # break로 while 문을 빠져 나옴"
   ]
  },
  {
   "cell_type": "code",
   "execution_count": 11,
   "id": "05932db3",
   "metadata": {},
   "outputs": [
    {
     "name": "stdout",
     "output_type": "stream",
     "text": [
      "0\n",
      "1\n",
      "2\n",
      "3\n"
     ]
    }
   ],
   "source": [
    "k = 0 \n",
    "while True:\n",
    "    \n",
    "    print(k) # k 출력\n",
    "    \n",
    "    k = k + 1 # k는 1씩 증가!\n",
    "    \n",
    "    if(k>3):  # k가 3보다 크면 # 3초과\n",
    "        break # break로 while 문을 빠져 나옴"
   ]
  },
  {
   "cell_type": "code",
   "execution_count": 12,
   "id": "8c4c9f86",
   "metadata": {},
   "outputs": [
    {
     "name": "stdout",
     "output_type": "stream",
     "text": [
      "0\n",
      "1\n",
      "2\n"
     ]
    }
   ],
   "source": [
    "for k in range(10):   \n",
    "    if(k > 2): # k가 2보다 크면\n",
    "        break\n",
    "    print(k)"
   ]
  },
  {
   "cell_type": "markdown",
   "id": "aab183cb",
   "metadata": {},
   "source": [
    "## 다음 반복을 실행하는 continue"
   ]
  },
  {
   "cell_type": "code",
   "execution_count": 13,
   "id": "78d66bd3",
   "metadata": {},
   "outputs": [
    {
     "name": "stdout",
     "output_type": "stream",
     "text": [
      "0\n",
      "1\n",
      "3\n",
      "4\n"
     ]
    }
   ],
   "source": [
    "for k in range(5):\n",
    "    if(k==2):      \n",
    "        continue   # 다시 반복문으로 돌아가\n",
    "    print(k)"
   ]
  },
  {
   "cell_type": "markdown",
   "id": "308eaca3",
   "metadata": {},
   "source": [
    "### 예제"
   ]
  },
  {
   "cell_type": "code",
   "execution_count": 15,
   "id": "a21ac7a9",
   "metadata": {},
   "outputs": [
    {
     "name": "stdout",
     "output_type": "stream",
     "text": [
      "1\n",
      "3\n"
     ]
    }
   ],
   "source": [
    "for k in range(5):\n",
    "    if(k % 2 == 0): # 2의 배수만 빼고 출력하라 - 홀수만 출력     \n",
    "        continue   # 다시 반복문으로 돌아가\n",
    "    print(k)"
   ]
  },
  {
   "cell_type": "code",
   "execution_count": 16,
   "id": "5a7b974b",
   "metadata": {},
   "outputs": [
    {
     "name": "stdout",
     "output_type": "stream",
     "text": [
      "0\n",
      "2\n",
      "4\n"
     ]
    }
   ],
   "source": [
    "for k in range(5):\n",
    "    if(k % 2 != 0): # 홀수만 빼고 출력하라 - 짝수만 출력     \n",
    "        continue   # 다시 반복문으로 돌아가\n",
    "    print(k)"
   ]
  },
  {
   "cell_type": "code",
   "execution_count": 17,
   "id": "f330bfaf",
   "metadata": {},
   "outputs": [
    {
     "name": "stdout",
     "output_type": "stream",
     "text": [
      "1\n",
      "continue next\n",
      "3\n",
      "4\n"
     ]
    }
   ],
   "source": [
    "k = 0\n",
    "while True:\n",
    "    k = k + 1\n",
    "    \n",
    "    if(k ==2):\n",
    "        print(\"continue next\")\n",
    "        continue\n",
    "    if(k>4):     # 5가 되면 밖으로 나가짐\n",
    "        break\n",
    "        \n",
    "    print(k)\n",
    "    "
   ]
  },
  {
   "cell_type": "markdown",
   "id": "a1d49f43",
   "metadata": {},
   "source": [
    "## 5.5 간단하게 반복하는 한 줄 for문"
   ]
  },
  {
   "cell_type": "markdown",
   "id": "e3d1feef",
   "metadata": {},
   "source": [
    "## 컴프리헨션(comprehesion)의 구조"
   ]
  },
  {
   "cell_type": "markdown",
   "id": "0d3bfa9a",
   "metadata": {},
   "source": [
    "#### 리스트 컴프리헨션\n",
    "[<반복실행문>for<반복변수>in<반복볌위>] - 연습 권장 x"
   ]
  },
  {
   "cell_type": "code",
   "execution_count": 19,
   "id": "01cc7324",
   "metadata": {},
   "outputs": [
    {
     "name": "stdout",
     "output_type": "stream",
     "text": [
      "[1, 4, 9, 16, 25]\n"
     ]
    }
   ],
   "source": [
    "numbers = [1,2,3,4,5]\n",
    "square = []\n",
    "\n",
    "for i in numbers:\n",
    "    square.append(i**2) # 제곱\n",
    "    \n",
    "print(square)"
   ]
  },
  {
   "cell_type": "code",
   "execution_count": 20,
   "id": "6d13c80f",
   "metadata": {},
   "outputs": [
    {
     "name": "stdout",
     "output_type": "stream",
     "text": [
      "[1, 4, 9, 16, 25]\n"
     ]
    }
   ],
   "source": [
    "numbers = [1,2,3,4,5]\n",
    "square = [i**2 for i in numbers]\n",
    "print(square)"
   ]
  },
  {
   "cell_type": "markdown",
   "id": "bf23ea00",
   "metadata": {},
   "source": [
    "## 조건문을 포함한 리스트 컴프리헨션"
   ]
  },
  {
   "cell_type": "code",
   "execution_count": 23,
   "id": "77f6afa3",
   "metadata": {},
   "outputs": [
    {
     "name": "stdout",
     "output_type": "stream",
     "text": [
      "[9, 16, 25]\n"
     ]
    }
   ],
   "source": [
    "numbers = [1,2,3,4,5]\n",
    "square = []\n",
    "\n",
    "for i in numbers:\n",
    "    if i>=3:\n",
    "        square.append(i**2) # 제곱\n",
    "    \n",
    "print(square)"
   ]
  },
  {
   "cell_type": "code",
   "execution_count": 25,
   "id": "bfab4987",
   "metadata": {},
   "outputs": [
    {
     "name": "stdout",
     "output_type": "stream",
     "text": [
      "[9, 16, 25]\n"
     ]
    }
   ],
   "source": [
    "numbers = [1,2,3,4,5]\n",
    "square = [i**2 for i in numbers if i >=3]\n",
    "print(square)"
   ]
  }
 ],
 "metadata": {
  "kernelspec": {
   "display_name": "Python 3 (ipykernel)",
   "language": "python",
   "name": "python3"
  },
  "language_info": {
   "codemirror_mode": {
    "name": "ipython",
    "version": 3
   },
   "file_extension": ".py",
   "mimetype": "text/x-python",
   "name": "python",
   "nbconvert_exporter": "python",
   "pygments_lexer": "ipython3",
   "version": "3.9.13"
  }
 },
 "nbformat": 4,
 "nbformat_minor": 5
}

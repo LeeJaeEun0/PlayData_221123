{
 "cells": [
  {
   "cell_type": "markdown",
   "id": "f38d560b",
   "metadata": {},
   "source": [
    "# if, for, while문 문제 하나씩 창작하기\n",
    "### while문에 break와 continue 사용하기\n",
    "### 자신이 할 수 있는 만큼 어렵게 작성하기 - 내가 이해한 정도"
   ]
  },
  {
   "cell_type": "markdown",
   "id": "ae101880",
   "metadata": {},
   "source": [
    "## if문"
   ]
  },
  {
   "cell_type": "code",
   "execution_count": 9,
   "id": "5884c703",
   "metadata": {},
   "outputs": [
    {
     "name": "stdout",
     "output_type": "stream",
     "text": [
      "한식, 일식, 양식, 중식 중 원하는 종류를 선택하세요 : ㅓㅓㅓㄹ어리ㅏㅓㅇㄹ;\n",
      "입력 오류! \n"
     ]
    }
   ],
   "source": [
    "# 점심을 선책하는데 도움을 주는 if문\n",
    "\n",
    "cho = input(\"한식, 일식, 양식, 중식 중 원하는 종류를 선택하세요 : \")\n",
    "\n",
    "if cho == \"한식\":\n",
    "    print(\"한식을 선택하셨네요!\")\n",
    "    menu = \"불고기\"\n",
    "    print(\"당신이 선택한 메뉴는 \",menu,\" 입니다.\")  \n",
    "elif cho == \"일식\":\n",
    "    print(\"일식을 선택하셨네요!\")\n",
    "    menu = \"회덮밥\"\n",
    "    print(\"당신이 선택한 메뉴는 \",menu,\" 입니다.\")  \n",
    "elif cho == \"양식\":\n",
    "    print(\"양식을 선택하셨네요!\")\n",
    "    menu = \"스테이크\"    \n",
    "    print(\"당신이 선택한 메뉴는 \",menu,\" 입니다.\")  \n",
    "elif cho == \"중식\":\n",
    "    print(\"중식을 선택하셨네요!\")\n",
    "    menu = \"짜장면\"\n",
    "    print(\"당신이 선택한 메뉴는 \",menu,\" 입니다.\")  \n",
    "else:\n",
    "    print(\"입력 오류! \")"
   ]
  },
  {
   "cell_type": "code",
   "execution_count": 42,
   "id": "8031cc3e",
   "metadata": {},
   "outputs": [
    {
     "name": "stdout",
     "output_type": "stream",
     "text": [
      "당신의 성적을 입력하세요 : 98\n",
      "당신의 성적은 A+ 입니다. 축하드려요!!\n"
     ]
    }
   ],
   "source": [
    "cho = input(\"당신의 성적을 입력하세요 : \")\n",
    "cho = int(cho)\n",
    "if (cho >= 90) and (cho <= 100):\n",
    "    print(\"당신의 성적은 A+ 입니다. 축하드려요!!\")\n",
    "elif cho >= 80:\n",
    "    print(\"당신의 성적은 B+ 입니다. 축하드려요!!\")\n",
    "elif cho >= 70:\n",
    "    print(\"당신의 성적은 C+ 입니다. 축하드려요!!\")\n",
    "elif cho >= 60:\n",
    "    print(\"당신의 성적은 D+ 입니다. 축하드려요!!\")\n",
    "elif (cho >= 0) and (cho <= 50):\n",
    "    print(\"당신의 성적은 D+ 입니다. 축하드려요!!\")\n",
    "else:\n",
    "    print(\"입력 오류! \")"
   ]
  },
  {
   "cell_type": "markdown",
   "id": "eb47aa02",
   "metadata": {},
   "source": [
    "## for문"
   ]
  },
  {
   "cell_type": "code",
   "execution_count": 34,
   "id": "e6b75bf8",
   "metadata": {},
   "outputs": [
    {
     "name": "stdout",
     "output_type": "stream",
     "text": [
      "A 60\n",
      "B 80\n",
      "C 89\n",
      "D 40\n",
      "E 89\n",
      "총합 :  358 평균 :  71.6\n"
     ]
    }
   ],
   "source": [
    "names = ['A','B','C','D','E']\n",
    "scores = [60, 80, 89, 40, 89]\n",
    "sum = 0\n",
    "for k in range(len(names)):     # len()은 리스트의 길이를 알아낸다 # 0,1,2,3 으로 진행\n",
    "    print(names[k], scores[k])\n",
    "    \n",
    "for p in range(len(scores)):\n",
    "    sum = sum+ scores[p]\n",
    "tot= sum/ int(len(scores))   \n",
    "print(\"총합 : \",sum,\"평균 : \", tot)"
   ]
  },
  {
   "cell_type": "code",
   "execution_count": 40,
   "id": "0bfd9825",
   "metadata": {},
   "outputs": [
    {
     "name": "stdout",
     "output_type": "stream",
     "text": [
      "2 단\n",
      "2  *  1  =  2\n",
      "2  *  2  =  4\n",
      "2  *  3  =  6\n",
      "2  *  4  =  8\n",
      "2  *  5  =  10\n",
      "2  *  6  =  12\n",
      "2  *  7  =  14\n",
      "2  *  8  =  16\n",
      "2  *  9  =  18\n",
      "3 단\n",
      "3  *  1  =  3\n",
      "3  *  2  =  6\n",
      "3  *  3  =  9\n",
      "3  *  4  =  12\n",
      "3  *  5  =  15\n",
      "3  *  6  =  18\n",
      "3  *  7  =  21\n",
      "3  *  8  =  24\n",
      "3  *  9  =  27\n",
      "4 단\n",
      "4  *  1  =  4\n",
      "4  *  2  =  8\n",
      "4  *  3  =  12\n",
      "4  *  4  =  16\n",
      "4  *  5  =  20\n",
      "4  *  6  =  24\n",
      "4  *  7  =  28\n",
      "4  *  8  =  32\n",
      "4  *  9  =  36\n",
      "5 단\n",
      "5  *  1  =  5\n",
      "5  *  2  =  10\n",
      "5  *  3  =  15\n",
      "5  *  4  =  20\n",
      "5  *  5  =  25\n",
      "5  *  6  =  30\n",
      "5  *  7  =  35\n",
      "5  *  8  =  40\n",
      "5  *  9  =  45\n",
      "6 단\n",
      "6  *  1  =  6\n",
      "6  *  2  =  12\n",
      "6  *  3  =  18\n",
      "6  *  4  =  24\n",
      "6  *  5  =  30\n",
      "6  *  6  =  36\n",
      "6  *  7  =  42\n",
      "6  *  8  =  48\n",
      "6  *  9  =  54\n",
      "7 단\n",
      "7  *  1  =  7\n",
      "7  *  2  =  14\n",
      "7  *  3  =  21\n",
      "7  *  4  =  28\n",
      "7  *  5  =  35\n",
      "7  *  6  =  42\n",
      "7  *  7  =  49\n",
      "7  *  8  =  56\n",
      "7  *  9  =  63\n",
      "8 단\n",
      "8  *  1  =  8\n",
      "8  *  2  =  16\n",
      "8  *  3  =  24\n",
      "8  *  4  =  32\n",
      "8  *  5  =  40\n",
      "8  *  6  =  48\n",
      "8  *  7  =  56\n",
      "8  *  8  =  64\n",
      "8  *  9  =  72\n",
      "9 단\n",
      "9  *  1  =  9\n",
      "9  *  2  =  18\n",
      "9  *  3  =  27\n",
      "9  *  4  =  36\n",
      "9  *  5  =  45\n",
      "9  *  6  =  54\n",
      "9  *  7  =  63\n",
      "9  *  8  =  72\n",
      "9  *  9  =  81\n"
     ]
    }
   ],
   "source": [
    "# 구구단\n",
    "\n",
    "for i in range(2,10,1):\n",
    "    print(i,\"단\")\n",
    "    for j in range(1,10,1):\n",
    "        print(i,\" * \", j,\" = \", i*j)"
   ]
  },
  {
   "cell_type": "markdown",
   "id": "6a5705dd",
   "metadata": {},
   "source": [
    "## while문"
   ]
  },
  {
   "cell_type": "code",
   "execution_count": 36,
   "id": "d25c8be0",
   "metadata": {},
   "outputs": [
    {
     "name": "stdout",
     "output_type": "stream",
     "text": [
      "한식, 일식, 양식, 중식 중 원하는 종류를 선택하세요 : 아러ㅣㄴ\n",
      "입력 오류! \n",
      "한식, 일식, 양식, 중식 중 원하는 종류를 선택하세요 : ㄴ아리]\n",
      "입력 오류! \n",
      "한식, 일식, 양식, 중식 중 원하는 종류를 선택하세요 : 한식\n",
      "한식을 선택하셨네요!\n",
      "당신이 선택한 메뉴는  불고기  입니다.\n",
      "프로그램 종료.\n"
     ]
    }
   ],
   "source": [
    "# while문 연습\n",
    "\n",
    "while True:\n",
    "    cho = input(\"한식, 일식, 양식, 중식 중 원하는 종류를 선택하세요 : \")\n",
    "\n",
    "    if cho == \"한식\":\n",
    "        print(\"한식을 선택하셨네요!\")\n",
    "        menu = \"불고기\"\n",
    "        print(\"당신이 선택한 메뉴는 \",menu,\" 입니다.\") \n",
    "        break\n",
    "    elif cho == \"일식\":\n",
    "        print(\"일식을 선택하셨네요!\")\n",
    "        menu = \"회덮밥\"\n",
    "        print(\"당신이 선택한 메뉴는 \",menu,\" 입니다.\")  \n",
    "        break\n",
    "    elif cho == \"양식\":\n",
    "        print(\"양식을 선택하셨네요!\")\n",
    "        menu = \"스테이크\"    \n",
    "        print(\"당신이 선택한 메뉴는 \",menu,\" 입니다.\") \n",
    "        break\n",
    "    elif cho == \"중식\":\n",
    "        print(\"중식을 선택하셨네요!\")\n",
    "        menu = \"짜장면\"\n",
    "        print(\"당신이 선택한 메뉴는 \",menu,\" 입니다.\")  \n",
    "        break\n",
    "    else:\n",
    "        print(\"입력 오류! \")\n",
    "        continue\n",
    "print(\"프로그램 종료.\")"
   ]
  }
 ],
 "metadata": {
  "kernelspec": {
   "display_name": "Python 3 (ipykernel)",
   "language": "python",
   "name": "python3"
  },
  "language_info": {
   "codemirror_mode": {
    "name": "ipython",
    "version": 3
   },
   "file_extension": ".py",
   "mimetype": "text/x-python",
   "name": "python",
   "nbconvert_exporter": "python",
   "pygments_lexer": "ipython3",
   "version": "3.9.13"
  }
 },
 "nbformat": 4,
 "nbformat_minor": 5
}
